{
 "cells": [
  {
   "cell_type": "code",
   "execution_count": 91,
   "id": "b6192290",
   "metadata": {},
   "outputs": [],
   "source": [
    "#importing libraries\n",
    "import pandas as pd\n",
    "import numpy as np\n",
    "import matplotlib.pyplot as plt"
   ]
  },
  {
   "cell_type": "code",
   "execution_count": 92,
   "id": "faad11d8",
   "metadata": {},
   "outputs": [],
   "source": [
    "df = pd.read_csv('IMP-PCMLAI-M6-Uni_Ranking.csv')"
   ]
  },
  {
   "cell_type": "code",
   "execution_count": 3,
   "id": "c6934f5c",
   "metadata": {},
   "outputs": [
    {
     "data": {
      "text/html": [
       "<div>\n",
       "<style scoped>\n",
       "    .dataframe tbody tr th:only-of-type {\n",
       "        vertical-align: middle;\n",
       "    }\n",
       "\n",
       "    .dataframe tbody tr th {\n",
       "        vertical-align: top;\n",
       "    }\n",
       "\n",
       "    .dataframe thead th {\n",
       "        text-align: right;\n",
       "    }\n",
       "</style>\n",
       "<table border=\"1\" class=\"dataframe\">\n",
       "  <thead>\n",
       "    <tr style=\"text-align: right;\">\n",
       "      <th></th>\n",
       "      <th>Unnamed: 0</th>\n",
       "      <th>research_rank</th>\n",
       "      <th>student_staff_ratio_rank</th>\n",
       "      <th>num_students_rank</th>\n",
       "      <th>world_rank</th>\n",
       "      <th>university_name</th>\n",
       "    </tr>\n",
       "  </thead>\n",
       "  <tbody>\n",
       "    <tr>\n",
       "      <th>0</th>\n",
       "      <td>169</td>\n",
       "      <td>182</td>\n",
       "      <td>190</td>\n",
       "      <td>1</td>\n",
       "      <td>167.0</td>\n",
       "      <td>Technical University of Denmark</td>\n",
       "    </tr>\n",
       "    <tr>\n",
       "      <th>1</th>\n",
       "      <td>30</td>\n",
       "      <td>54</td>\n",
       "      <td>150</td>\n",
       "      <td>2</td>\n",
       "      <td>31.0</td>\n",
       "      <td>École Polytechnique Fédérale de Lausanne</td>\n",
       "    </tr>\n",
       "    <tr>\n",
       "      <th>2</th>\n",
       "      <td>158</td>\n",
       "      <td>187</td>\n",
       "      <td>193</td>\n",
       "      <td>3</td>\n",
       "      <td>158.0</td>\n",
       "      <td>University of Rochester</td>\n",
       "    </tr>\n",
       "    <tr>\n",
       "      <th>3</th>\n",
       "      <td>133</td>\n",
       "      <td>173</td>\n",
       "      <td>182</td>\n",
       "      <td>4</td>\n",
       "      <td>133.0</td>\n",
       "      <td>Case Western Reserve University</td>\n",
       "    </tr>\n",
       "    <tr>\n",
       "      <th>4</th>\n",
       "      <td>47</td>\n",
       "      <td>55</td>\n",
       "      <td>71</td>\n",
       "      <td>5</td>\n",
       "      <td>47.0</td>\n",
       "      <td>Wageningen University and Research Center</td>\n",
       "    </tr>\n",
       "  </tbody>\n",
       "</table>\n",
       "</div>"
      ],
      "text/plain": [
       "   Unnamed: 0  research_rank  student_staff_ratio_rank  num_students_rank  \\\n",
       "0         169            182                       190                  1   \n",
       "1          30             54                       150                  2   \n",
       "2         158            187                       193                  3   \n",
       "3         133            173                       182                  4   \n",
       "4          47             55                        71                  5   \n",
       "\n",
       "   world_rank                            university_name  \n",
       "0       167.0            Technical University of Denmark  \n",
       "1        31.0   École Polytechnique Fédérale de Lausanne  \n",
       "2       158.0                    University of Rochester  \n",
       "3       133.0            Case Western Reserve University  \n",
       "4        47.0  Wageningen University and Research Center  "
      ]
     },
     "execution_count": 3,
     "metadata": {},
     "output_type": "execute_result"
    }
   ],
   "source": [
    "df.head()"
   ]
  },
  {
   "cell_type": "markdown",
   "id": "5376d68e",
   "metadata": {},
   "source": [
    "### THIS SECTION IS FOR RESEARCH RANK NUMBERS"
   ]
  },
  {
   "cell_type": "code",
   "execution_count": 61,
   "id": "b5961f18",
   "metadata": {},
   "outputs": [],
   "source": [
    "df_research_rank = df[['research_rank','world_rank']]"
   ]
  },
  {
   "cell_type": "code",
   "execution_count": 62,
   "id": "5cf03a1a",
   "metadata": {},
   "outputs": [
    {
     "data": {
      "text/html": [
       "<div>\n",
       "<style scoped>\n",
       "    .dataframe tbody tr th:only-of-type {\n",
       "        vertical-align: middle;\n",
       "    }\n",
       "\n",
       "    .dataframe tbody tr th {\n",
       "        vertical-align: top;\n",
       "    }\n",
       "\n",
       "    .dataframe thead th {\n",
       "        text-align: right;\n",
       "    }\n",
       "</style>\n",
       "<table border=\"1\" class=\"dataframe\">\n",
       "  <thead>\n",
       "    <tr style=\"text-align: right;\">\n",
       "      <th></th>\n",
       "      <th>research_rank</th>\n",
       "      <th>world_rank</th>\n",
       "    </tr>\n",
       "  </thead>\n",
       "  <tbody>\n",
       "    <tr>\n",
       "      <th>0</th>\n",
       "      <td>182</td>\n",
       "      <td>167.0</td>\n",
       "    </tr>\n",
       "    <tr>\n",
       "      <th>1</th>\n",
       "      <td>54</td>\n",
       "      <td>31.0</td>\n",
       "    </tr>\n",
       "    <tr>\n",
       "      <th>2</th>\n",
       "      <td>187</td>\n",
       "      <td>158.0</td>\n",
       "    </tr>\n",
       "    <tr>\n",
       "      <th>3</th>\n",
       "      <td>173</td>\n",
       "      <td>133.0</td>\n",
       "    </tr>\n",
       "    <tr>\n",
       "      <th>4</th>\n",
       "      <td>55</td>\n",
       "      <td>47.0</td>\n",
       "    </tr>\n",
       "  </tbody>\n",
       "</table>\n",
       "</div>"
      ],
      "text/plain": [
       "   research_rank  world_rank\n",
       "0            182       167.0\n",
       "1             54        31.0\n",
       "2            187       158.0\n",
       "3            173       133.0\n",
       "4             55        47.0"
      ]
     },
     "execution_count": 62,
     "metadata": {},
     "output_type": "execute_result"
    }
   ],
   "source": [
    "df_research_rank.head()"
   ]
  },
  {
   "cell_type": "code",
   "execution_count": 51,
   "id": "36eaae3f",
   "metadata": {},
   "outputs": [],
   "source": [
    "df_research_rank_sorted = df_research_rank.sort_values('research_rank', ascending=False)"
   ]
  },
  {
   "cell_type": "code",
   "execution_count": 52,
   "id": "8640a0a2",
   "metadata": {},
   "outputs": [
    {
     "data": {
      "text/html": [
       "<div>\n",
       "<style scoped>\n",
       "    .dataframe tbody tr th:only-of-type {\n",
       "        vertical-align: middle;\n",
       "    }\n",
       "\n",
       "    .dataframe tbody tr th {\n",
       "        vertical-align: top;\n",
       "    }\n",
       "\n",
       "    .dataframe thead th {\n",
       "        text-align: right;\n",
       "    }\n",
       "</style>\n",
       "<table border=\"1\" class=\"dataframe\">\n",
       "  <thead>\n",
       "    <tr style=\"text-align: right;\">\n",
       "      <th></th>\n",
       "      <th>research_rank</th>\n",
       "      <th>world_rank</th>\n",
       "    </tr>\n",
       "  </thead>\n",
       "  <tbody>\n",
       "    <tr>\n",
       "      <th>138</th>\n",
       "      <td>200</td>\n",
       "      <td>196.0</td>\n",
       "    </tr>\n",
       "    <tr>\n",
       "      <th>16</th>\n",
       "      <td>199</td>\n",
       "      <td>195.0</td>\n",
       "    </tr>\n",
       "    <tr>\n",
       "      <th>165</th>\n",
       "      <td>198</td>\n",
       "      <td>161.0</td>\n",
       "    </tr>\n",
       "    <tr>\n",
       "      <th>87</th>\n",
       "      <td>197</td>\n",
       "      <td>199.0</td>\n",
       "    </tr>\n",
       "    <tr>\n",
       "      <th>12</th>\n",
       "      <td>196</td>\n",
       "      <td>180.0</td>\n",
       "    </tr>\n",
       "  </tbody>\n",
       "</table>\n",
       "</div>"
      ],
      "text/plain": [
       "     research_rank  world_rank\n",
       "138            200       196.0\n",
       "16             199       195.0\n",
       "165            198       161.0\n",
       "87             197       199.0\n",
       "12             196       180.0"
      ]
     },
     "execution_count": 52,
     "metadata": {},
     "output_type": "execute_result"
    }
   ],
   "source": [
    "df_research_rank_sorted.head()"
   ]
  },
  {
   "cell_type": "code",
   "execution_count": 63,
   "id": "8c6d83b2",
   "metadata": {},
   "outputs": [],
   "source": [
    "research_rank_regressor = np.cumsum(df_research_rank_sorted['world_rank'])\n"
   ]
  },
  {
   "cell_type": "code",
   "execution_count": 64,
   "id": "affffcb9",
   "metadata": {},
   "outputs": [],
   "source": [
    "outcome_value = np.sort(df['research_rank'])\n",
    "outcome_value= outcome_value[::-1]\n"
   ]
  },
  {
   "cell_type": "code",
   "execution_count": 65,
   "id": "23f7875c",
   "metadata": {},
   "outputs": [],
   "source": [
    "perfect_regressor = np.cumsum(outcome_value)"
   ]
  },
  {
   "cell_type": "code",
   "execution_count": 66,
   "id": "cf7b2a2a",
   "metadata": {},
   "outputs": [
    {
     "data": {
      "text/plain": [
       "138      196.0\n",
       "16       391.0\n",
       "165      552.0\n",
       "87       751.0\n",
       "12       931.0\n",
       "        ...   \n",
       "161    19976.0\n",
       "146    19980.0\n",
       "141    19981.0\n",
       "143    19983.0\n",
       "136    19989.0\n",
       "Name: world_rank, Length: 200, dtype: float64"
      ]
     },
     "execution_count": 66,
     "metadata": {},
     "output_type": "execute_result"
    }
   ],
   "source": [
    "research_rank_regressor "
   ]
  },
  {
   "cell_type": "code",
   "execution_count": 67,
   "id": "32e0c590",
   "metadata": {},
   "outputs": [
    {
     "data": {
      "text/plain": [
       "array([  200,   399,   597,   794,   990,  1185,  1379,  1572,  1764,\n",
       "        1955,  2145,  2334,  2522,  2709,  2895,  3080,  3264,  3447,\n",
       "        3629,  3810,  3990,  4169,  4347,  4524,  4700,  4875,  5049,\n",
       "        5222,  5394,  5565,  5735,  5904,  6072,  6239,  6405,  6570,\n",
       "        6734,  6897,  7059,  7220,  7380,  7539,  7697,  7854,  8010,\n",
       "        8165,  8319,  8472,  8624,  8775,  8925,  9074,  9222,  9369,\n",
       "        9515,  9660,  9804,  9947, 10089, 10230, 10370, 10509, 10647,\n",
       "       10784, 10920, 11055, 11189, 11322, 11454, 11585, 11715, 11844,\n",
       "       11972, 12099, 12225, 12350, 12474, 12597, 12719, 12840, 12960,\n",
       "       13079, 13197, 13314, 13430, 13545, 13659, 13772, 13884, 13995,\n",
       "       14105, 14214, 14322, 14429, 14535, 14640, 14744, 14847, 14949,\n",
       "       15050, 15150, 15249, 15347, 15444, 15540, 15635, 15729, 15822,\n",
       "       15914, 16005, 16095, 16184, 16272, 16359, 16445, 16530, 16614,\n",
       "       16697, 16779, 16860, 16940, 17019, 17097, 17174, 17250, 17325,\n",
       "       17399, 17472, 17544, 17615, 17685, 17754, 17822, 17889, 17955,\n",
       "       18020, 18084, 18147, 18209, 18270, 18330, 18389, 18447, 18504,\n",
       "       18560, 18615, 18669, 18722, 18774, 18825, 18875, 18924, 18972,\n",
       "       19019, 19065, 19110, 19154, 19197, 19239, 19280, 19320, 19359,\n",
       "       19397, 19434, 19470, 19505, 19539, 19572, 19604, 19635, 19665,\n",
       "       19694, 19722, 19749, 19775, 19800, 19824, 19847, 19869, 19890,\n",
       "       19910, 19929, 19947, 19964, 19980, 19995, 20009, 20022, 20034,\n",
       "       20045, 20055, 20064, 20072, 20079, 20085, 20090, 20094, 20097,\n",
       "       20099, 20100], dtype=int64)"
      ]
     },
     "execution_count": 67,
     "metadata": {},
     "output_type": "execute_result"
    }
   ],
   "source": [
    "perfect_regressor"
   ]
  },
  {
   "cell_type": "code",
   "execution_count": 68,
   "id": "43924fd1",
   "metadata": {},
   "outputs": [],
   "source": [
    "i_values = range(1,len(df_sorted)+1)"
   ]
  },
  {
   "cell_type": "code",
   "execution_count": 82,
   "id": "cc1e4145",
   "metadata": {},
   "outputs": [
    {
     "data": {
      "image/png": "[encoded data removed]",
      "text/plain": [
       "<Figure size 432x288 with 1 Axes>"
      ]
     },
     "metadata": {
      "needs_background": "light"
     },
     "output_type": "display_data"
    }
   ],
   "source": [
    "plt.step(i_values,research_rank_regressor,label='Research Rank Regressor')\n",
    "plt.step(i_values,perfect_regressor,label='Perfect Regressor',color='gray', linestyle='-')\n",
    "plt.plot([0,200],[0,np.sum(df_sorted['world_rank'])],label='Average Regressor')\n",
    "plt.xlabel('Number of instances')\n",
    "plt.ylabel('Proportion')\n",
    "plt.title('Classifiers for Times World University Rankings 2016')\n",
    "plt.legend()\n",
    "plt.show()"
   ]
  },
  {
   "cell_type": "code",
   "execution_count": 70,
   "id": "177cebd4",
   "metadata": {},
   "outputs": [
    {
     "name": "stdout",
     "output_type": "stream",
     "text": [
      "MSE of the perfect classifier: 0.0\n",
      "MSE of the average classifier: 3298.7719749999997\n",
      "MSE of the research_rank_regressor: 766.885\n"
     ]
    }
   ],
   "source": [
    "# Define the actual and predicted values\n",
    "y_actual = df_research_rank_sorted['world_rank']\n",
    "y_predicted = df_research_rank_sorted['research_rank']\n",
    "\n",
    "# Calculate the MSE for the perfect and average classifiers\n",
    "mse_perfect = np.mean((np.cumsum(outcome_value) - perfect_regressor)**2)\n",
    "mse_average = np.mean((y_actual - np.mean(y_actual)) ** 2)\n",
    "\n",
    "# Calculate the MSE for the regressor\n",
    "mse_regressor = np.mean((y_actual - y_predicted) ** 2)\n",
    "\n",
    "# Print the MSE values\n",
    "print('MSE of the perfect classifier:', mse_perfect)\n",
    "print('MSE of the average classifier:', mse_average)\n",
    "print('MSE of the research_rank_regressor:', mse_regressor)\n"
   ]
  },
  {
   "cell_type": "markdown",
   "id": "1a3e6e3b",
   "metadata": {},
   "source": [
    "### THIS SECTION IS FOR NUMBER OF STUDENTS"
   ]
  },
  {
   "cell_type": "code",
   "execution_count": 71,
   "id": "c23990f0",
   "metadata": {},
   "outputs": [
    {
     "data": {
      "text/html": [
       "<div>\n",
       "<style scoped>\n",
       "    .dataframe tbody tr th:only-of-type {\n",
       "        vertical-align: middle;\n",
       "    }\n",
       "\n",
       "    .dataframe tbody tr th {\n",
       "        vertical-align: top;\n",
       "    }\n",
       "\n",
       "    .dataframe thead th {\n",
       "        text-align: right;\n",
       "    }\n",
       "</style>\n",
       "<table border=\"1\" class=\"dataframe\">\n",
       "  <thead>\n",
       "    <tr style=\"text-align: right;\">\n",
       "      <th></th>\n",
       "      <th>num_students_rank</th>\n",
       "      <th>world_rank</th>\n",
       "    </tr>\n",
       "  </thead>\n",
       "  <tbody>\n",
       "    <tr>\n",
       "      <th>0</th>\n",
       "      <td>1</td>\n",
       "      <td>167.0</td>\n",
       "    </tr>\n",
       "    <tr>\n",
       "      <th>1</th>\n",
       "      <td>2</td>\n",
       "      <td>31.0</td>\n",
       "    </tr>\n",
       "    <tr>\n",
       "      <th>2</th>\n",
       "      <td>3</td>\n",
       "      <td>158.0</td>\n",
       "    </tr>\n",
       "    <tr>\n",
       "      <th>3</th>\n",
       "      <td>4</td>\n",
       "      <td>133.0</td>\n",
       "    </tr>\n",
       "    <tr>\n",
       "      <th>4</th>\n",
       "      <td>5</td>\n",
       "      <td>47.0</td>\n",
       "    </tr>\n",
       "  </tbody>\n",
       "</table>\n",
       "</div>"
      ],
      "text/plain": [
       "   num_students_rank  world_rank\n",
       "0                  1       167.0\n",
       "1                  2        31.0\n",
       "2                  3       158.0\n",
       "3                  4       133.0\n",
       "4                  5        47.0"
      ]
     },
     "execution_count": 71,
     "metadata": {},
     "output_type": "execute_result"
    }
   ],
   "source": [
    "df_num_students_rank = df[['num_students_rank','world_rank']]\n",
    "df_num_students_rank.head()"
   ]
  },
  {
   "cell_type": "code",
   "execution_count": 72,
   "id": "1b4712bb",
   "metadata": {},
   "outputs": [],
   "source": [
    "df_num_students_rank_sorted = df_num_students_rank.sort_values('num_students_rank', ascending=False)"
   ]
  },
  {
   "cell_type": "code",
   "execution_count": 73,
   "id": "81519c6e",
   "metadata": {},
   "outputs": [
    {
     "data": {
      "text/html": [
       "<div>\n",
       "<style scoped>\n",
       "    .dataframe tbody tr th:only-of-type {\n",
       "        vertical-align: middle;\n",
       "    }\n",
       "\n",
       "    .dataframe tbody tr th {\n",
       "        vertical-align: top;\n",
       "    }\n",
       "\n",
       "    .dataframe thead th {\n",
       "        text-align: right;\n",
       "    }\n",
       "</style>\n",
       "<table border=\"1\" class=\"dataframe\">\n",
       "  <thead>\n",
       "    <tr style=\"text-align: right;\">\n",
       "      <th></th>\n",
       "      <th>num_students_rank</th>\n",
       "      <th>world_rank</th>\n",
       "    </tr>\n",
       "  </thead>\n",
       "  <tbody>\n",
       "    <tr>\n",
       "      <th>199</th>\n",
       "      <td>200</td>\n",
       "      <td>131.0</td>\n",
       "    </tr>\n",
       "    <tr>\n",
       "      <th>198</th>\n",
       "      <td>199</td>\n",
       "      <td>23.0</td>\n",
       "    </tr>\n",
       "    <tr>\n",
       "      <th>197</th>\n",
       "      <td>198</td>\n",
       "      <td>127.0</td>\n",
       "    </tr>\n",
       "    <tr>\n",
       "      <th>196</th>\n",
       "      <td>197</td>\n",
       "      <td>164.0</td>\n",
       "    </tr>\n",
       "    <tr>\n",
       "      <th>195</th>\n",
       "      <td>196</td>\n",
       "      <td>175.0</td>\n",
       "    </tr>\n",
       "  </tbody>\n",
       "</table>\n",
       "</div>"
      ],
      "text/plain": [
       "     num_students_rank  world_rank\n",
       "199                200       131.0\n",
       "198                199        23.0\n",
       "197                198       127.0\n",
       "196                197       164.0\n",
       "195                196       175.0"
      ]
     },
     "execution_count": 73,
     "metadata": {},
     "output_type": "execute_result"
    }
   ],
   "source": [
    "df_num_students_rank_sorted.head()"
   ]
  },
  {
   "cell_type": "code",
   "execution_count": 74,
   "id": "209a5b7f",
   "metadata": {},
   "outputs": [],
   "source": [
    "num_students_rank_regressor = np.cumsum(df_num_students_rank_sorted['world_rank'])"
   ]
  },
  {
   "cell_type": "code",
   "execution_count": 75,
   "id": "9af71fc3",
   "metadata": {},
   "outputs": [],
   "source": [
    "outcome_value = np.sort(df['num_students_rank'])\n",
    "outcome_value= outcome_value[::-1]"
   ]
  },
  {
   "cell_type": "code",
   "execution_count": 76,
   "id": "047a7812",
   "metadata": {},
   "outputs": [],
   "source": [
    "perfect_regressor = np.cumsum(outcome_value)"
   ]
  },
  {
   "cell_type": "code",
   "execution_count": 80,
   "id": "c5dc2227",
   "metadata": {},
   "outputs": [
    {
     "data": {
      "image/png": "[encoded data removed]",
      "text/plain": [
       "<Figure size 432x288 with 1 Axes>"
      ]
     },
     "metadata": {
      "needs_background": "light"
     },
     "output_type": "display_data"
    }
   ],
   "source": [
    "plt.step(i_values,num_students_rank_regressor,label='Num_students_Rank Regressor')\n",
    "plt.step(i_values,perfect_regressor,label='Perfect Regressor',color='gray', linestyle='-')\n",
    "plt.plot([0,200],[0,np.sum(df_sorted['world_rank'])],label='Average Regressor')\n",
    "plt.xlabel('Number of instances')\n",
    "plt.ylabel('Proportion')\n",
    "plt.title('Classifiers for Times World University Rankings 2016')\n",
    "plt.legend()\n",
    "plt.show()"
   ]
  },
  {
   "cell_type": "code",
   "execution_count": 93,
   "id": "c3db141c",
   "metadata": {},
   "outputs": [
    {
     "name": "stdout",
     "output_type": "stream",
     "text": [
      "MSE of the perfect classifier: 0.0\n",
      "MSE of the average classifier: 3298.7719749999997\n",
      "MSE of the num_students_rank_regressor: 6686.945\n"
     ]
    }
   ],
   "source": [
    "# Define the actual and predicted values\n",
    "y_actual = df_num_students_rank_sorted['world_rank']\n",
    "y_predicted = df_num_students_rank_sorted['num_students_rank']\n",
    "\n",
    "# Calculate the MSE for the perfect and average classifiers\n",
    "mse_perfect = np.mean((np.cumsum(outcome_value) - perfect_regressor)**2)\n",
    "mse_average = np.mean((y_actual - np.mean(y_actual)) ** 2)\n",
    "\n",
    "# Calculate the MSE for the regressor\n",
    "mse_regressor = np.mean((y_actual - y_predicted) ** 2)\n",
    "\n",
    "# Print the MSE values\n",
    "print('MSE of the perfect classifier:', mse_perfect)\n",
    "print('MSE of the average classifier:', mse_average)\n",
    "print('MSE of the num_students_rank_regressor:', mse_regressor)\n"
   ]
  },
  {
   "cell_type": "markdown",
   "id": "f05eb3fc",
   "metadata": {},
   "source": [
    "### THIS SECTION IS FOR STUDENT STAFF RATIO RANK"
   ]
  },
  {
   "cell_type": "code",
   "execution_count": 83,
   "id": "9f46da60",
   "metadata": {},
   "outputs": [
    {
     "data": {
      "text/html": [
       "<div>\n",
       "<style scoped>\n",
       "    .dataframe tbody tr th:only-of-type {\n",
       "        vertical-align: middle;\n",
       "    }\n",
       "\n",
       "    .dataframe tbody tr th {\n",
       "        vertical-align: top;\n",
       "    }\n",
       "\n",
       "    .dataframe thead th {\n",
       "        text-align: right;\n",
       "    }\n",
       "</style>\n",
       "<table border=\"1\" class=\"dataframe\">\n",
       "  <thead>\n",
       "    <tr style=\"text-align: right;\">\n",
       "      <th></th>\n",
       "      <th>student_staff_ratio_rank</th>\n",
       "      <th>world_rank</th>\n",
       "    </tr>\n",
       "  </thead>\n",
       "  <tbody>\n",
       "    <tr>\n",
       "      <th>0</th>\n",
       "      <td>190</td>\n",
       "      <td>167.0</td>\n",
       "    </tr>\n",
       "    <tr>\n",
       "      <th>1</th>\n",
       "      <td>150</td>\n",
       "      <td>31.0</td>\n",
       "    </tr>\n",
       "    <tr>\n",
       "      <th>2</th>\n",
       "      <td>193</td>\n",
       "      <td>158.0</td>\n",
       "    </tr>\n",
       "    <tr>\n",
       "      <th>3</th>\n",
       "      <td>182</td>\n",
       "      <td>133.0</td>\n",
       "    </tr>\n",
       "    <tr>\n",
       "      <th>4</th>\n",
       "      <td>71</td>\n",
       "      <td>47.0</td>\n",
       "    </tr>\n",
       "  </tbody>\n",
       "</table>\n",
       "</div>"
      ],
      "text/plain": [
       "   student_staff_ratio_rank  world_rank\n",
       "0                       190       167.0\n",
       "1                       150        31.0\n",
       "2                       193       158.0\n",
       "3                       182       133.0\n",
       "4                        71        47.0"
      ]
     },
     "execution_count": 83,
     "metadata": {},
     "output_type": "execute_result"
    }
   ],
   "source": [
    "df_staff_rank = df[['student_staff_ratio_rank','world_rank']]\n",
    "df_staff_rank.head()"
   ]
  },
  {
   "cell_type": "code",
   "execution_count": 84,
   "id": "663d870e",
   "metadata": {},
   "outputs": [],
   "source": [
    "df_staff_rank_sorted = df_staff_rank.sort_values('student_staff_ratio_rank', ascending=False)"
   ]
  },
  {
   "cell_type": "code",
   "execution_count": 85,
   "id": "6ea277d7",
   "metadata": {},
   "outputs": [
    {
     "data": {
      "text/html": [
       "<div>\n",
       "<style scoped>\n",
       "    .dataframe tbody tr th:only-of-type {\n",
       "        vertical-align: middle;\n",
       "    }\n",
       "\n",
       "    .dataframe tbody tr th {\n",
       "        vertical-align: top;\n",
       "    }\n",
       "\n",
       "    .dataframe thead th {\n",
       "        text-align: right;\n",
       "    }\n",
       "</style>\n",
       "<table border=\"1\" class=\"dataframe\">\n",
       "  <thead>\n",
       "    <tr style=\"text-align: right;\">\n",
       "      <th></th>\n",
       "      <th>student_staff_ratio_rank</th>\n",
       "      <th>world_rank</th>\n",
       "    </tr>\n",
       "  </thead>\n",
       "  <tbody>\n",
       "    <tr>\n",
       "      <th>199</th>\n",
       "      <td>200</td>\n",
       "      <td>131.0</td>\n",
       "    </tr>\n",
       "    <tr>\n",
       "      <th>198</th>\n",
       "      <td>199</td>\n",
       "      <td>23.0</td>\n",
       "    </tr>\n",
       "    <tr>\n",
       "      <th>167</th>\n",
       "      <td>198</td>\n",
       "      <td>11.0</td>\n",
       "    </tr>\n",
       "    <tr>\n",
       "      <th>181</th>\n",
       "      <td>197</td>\n",
       "      <td>87.0</td>\n",
       "    </tr>\n",
       "    <tr>\n",
       "      <th>90</th>\n",
       "      <td>196</td>\n",
       "      <td>82.0</td>\n",
       "    </tr>\n",
       "  </tbody>\n",
       "</table>\n",
       "</div>"
      ],
      "text/plain": [
       "     student_staff_ratio_rank  world_rank\n",
       "199                       200       131.0\n",
       "198                       199        23.0\n",
       "167                       198        11.0\n",
       "181                       197        87.0\n",
       "90                        196        82.0"
      ]
     },
     "execution_count": 85,
     "metadata": {},
     "output_type": "execute_result"
    }
   ],
   "source": [
    "df_staff_rank_sorted.head()"
   ]
  },
  {
   "cell_type": "code",
   "execution_count": 86,
   "id": "ab3c9aa1",
   "metadata": {},
   "outputs": [],
   "source": [
    "staff_rank_regressor = np.cumsum(df_staff_rank_sorted['world_rank'])"
   ]
  },
  {
   "cell_type": "code",
   "execution_count": 87,
   "id": "9db3e999",
   "metadata": {},
   "outputs": [],
   "source": [
    "outcome_value = np.sort(df['student_staff_ratio_rank'])\n",
    "outcome_value= outcome_value[::-1]"
   ]
  },
  {
   "cell_type": "code",
   "execution_count": 88,
   "id": "7eeb5394",
   "metadata": {},
   "outputs": [],
   "source": [
    "perfect_regressor = np.cumsum(outcome_value)"
   ]
  },
  {
   "cell_type": "code",
   "execution_count": 89,
   "id": "9bd05796",
   "metadata": {},
   "outputs": [
    {
     "data": {
      "image/png": "[encoded data removed]",
      "text/plain": [
       "<Figure size 432x288 with 1 Axes>"
      ]
     },
     "metadata": {
      "needs_background": "light"
     },
     "output_type": "display_data"
    }
   ],
   "source": [
    "plt.step(i_values,staff_rank_regressor,label='Staff_Rank Regressor')\n",
    "plt.step(i_values,perfect_regressor,label='Perfect Regressor',color='gray', linestyle='-')\n",
    "plt.plot([0,200],[0,np.sum(df_sorted['world_rank'])],label='Average Regressor')\n",
    "plt.xlabel('Number of instances')\n",
    "plt.ylabel('Proportion')\n",
    "plt.title('Classifiers for Times World University Rankings 2016')\n",
    "plt.legend()\n",
    "plt.show()"
   ]
  },
  {
   "cell_type": "code",
   "execution_count": 90,
   "id": "2c127391",
   "metadata": {},
   "outputs": [
    {
     "name": "stdout",
     "output_type": "stream",
     "text": [
      "MSE of the perfect classifier: 0.0\n",
      "MSE of the average classifier: 3298.7719749999983\n",
      "MSE of the research_rank_regressor: 8021.615\n"
     ]
    }
   ],
   "source": [
    "# Define the actual and predicted values\n",
    "y_actual = df_staff_rank_sorted['world_rank']\n",
    "y_predicted = df_staff_rank_sorted['student_staff_ratio_rank']\n",
    "\n",
    "# Calculate the MSE for the perfect and average classifiers\n",
    "mse_perfect = np.mean((np.cumsum(outcome_value) - perfect_regressor)**2)\n",
    "mse_average = np.mean((y_actual - np.mean(y_actual)) ** 2)\n",
    "\n",
    "# Calculate the MSE for the regressor\n",
    "mse_regressor = np.mean((y_actual - y_predicted) ** 2)\n",
    "\n",
    "# Print the MSE values\n",
    "print('MSE of the perfect classifier:', mse_perfect)\n",
    "print('MSE of the average classifier:', mse_average)\n",
    "print('MSE of the staff_rank_regressor:', mse_regressor)\n"
   ]
  },
  {
   "cell_type": "code",
   "execution_count": null,
   "id": "ece84058",
   "metadata": {},
   "outputs": [],
   "source": []
  }
 ],
 "metadata": {
  "kernelspec": {
   "display_name": "Python 3 (ipykernel)",
   "language": "python",
   "name": "python3"
  },
  "language_info": {
   "codemirror_mode": {
    "name": "ipython",
    "version": 3
   },
   "file_extension": ".py",
   "mimetype": "text/x-python",
   "name": "python",
   "nbconvert_exporter": "python",
   "pygments_lexer": "ipython3",
   "version": "3.9.12"
  }
 },
 "nbformat": 4,
 "nbformat_minor": 5
}
